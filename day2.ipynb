{
 "cells": [
  {
   "cell_type": "markdown",
   "id": "99cdac58-0e95-486c-ae3c-78f22ccfa8a0",
   "metadata": {},
   "source": [
    "# Part 1"
   ]
  },
  {
   "cell_type": "code",
   "execution_count": 9,
   "id": "1d68dac9-c21a-4380-a381-a021be6142c5",
   "metadata": {},
   "outputs": [
    {
     "name": "stdout",
     "output_type": "stream",
     "text": [
      "1867\n"
     ]
    }
   ],
   "source": [
    "maxes = {\"r\": 12,\n",
    "         \"g\": 13,\n",
    "         \"b\": 14}\n",
    "\n",
    "with open('day2_input.txt') as f:\n",
    "    n = 0\n",
    "    \n",
    "    for line in f.readlines():\n",
    "        game, draws = line.split(\": \")\n",
    "\n",
    "        for draw in draws.replace(',' , \";\").split(\"; \"):\n",
    "            count, colour = draw.split(\" \")\n",
    "            if int(count) > maxes[colour[0]]:\n",
    "                break\n",
    "        else:\n",
    "            n += int(game.split(\" \")[1])\n",
    "            \n",
    "print(n)"
   ]
  },
  {
   "cell_type": "markdown",
   "id": "e1433651-a4fa-4721-bbb7-7d772abf2917",
   "metadata": {},
   "source": [
    "# Part 2"
   ]
  },
  {
   "cell_type": "code",
   "execution_count": 15,
   "id": "319b4380-c135-4554-b654-26f3ef431df0",
   "metadata": {},
   "outputs": [
    {
     "name": "stdout",
     "output_type": "stream",
     "text": [
      "84538\n"
     ]
    }
   ],
   "source": [
    "with open('day2_input.txt') as f:\n",
    "    n = 0\n",
    "    \n",
    "    for line in f.readlines():\n",
    "        maxes = {\"r\": 0, \"g\": 0, \"b\": 0}\n",
    "        game, draws = line.split(\": \")\n",
    "\n",
    "        for draw in draws.replace(',' , \";\").split(\"; \"):\n",
    "            count, colour = draw.split(\" \")\n",
    "            if (i := int(count)) > maxes[colour[0]]:\n",
    "                maxes[colour[0]] = i\n",
    "                \n",
    "        power = maxes[\"r\"] * maxes[\"g\"] * maxes[\"b\"]\n",
    "        n += power\n",
    "        \n",
    "print(n)"
   ]
  },
  {
   "cell_type": "code",
   "execution_count": null,
   "id": "ecf16967-217a-4b47-b42e-07e28d5c12d4",
   "metadata": {},
   "outputs": [],
   "source": []
  }
 ],
 "metadata": {
  "kernelspec": {
   "display_name": "Python 3 (ipykernel)",
   "language": "python",
   "name": "python3"
  },
  "language_info": {
   "codemirror_mode": {
    "name": "ipython",
    "version": 3
   },
   "file_extension": ".py",
   "mimetype": "text/x-python",
   "name": "python",
   "nbconvert_exporter": "python",
   "pygments_lexer": "ipython3",
   "version": "3.10.8"
  }
 },
 "nbformat": 4,
 "nbformat_minor": 5
}
