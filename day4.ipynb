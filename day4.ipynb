{
 "cells": [
  {
   "cell_type": "markdown",
   "id": "b441e51e-fbbe-4e33-bde6-83f468094fb3",
   "metadata": {},
   "source": [
    "# Part 1"
   ]
  },
  {
   "cell_type": "code",
   "execution_count": 20,
   "id": "9eafef6e-152e-48db-8e15-7076072b7372",
   "metadata": {},
   "outputs": [
    {
     "data": {
      "text/plain": [
       "25183"
      ]
     },
     "execution_count": 20,
     "metadata": {},
     "output_type": "execute_result"
    }
   ],
   "source": [
    "import re\n",
    "\n",
    "with open('day4.txt') as f:\n",
    "    total = 0\n",
    "    \n",
    "    for line in f.readlines():\n",
    "        winning, mine = line.split(\"|\")\n",
    "        winning = set([int(x) for x in re.sub('\\s{2}', ' ', winning.split(\":\")[1].strip()).split(\" \")])\n",
    "        mine = set([int(x) for x in re.sub('\\s{2}', ' ', mine.strip()).split(\" \")])\n",
    "        \n",
    "        if matches := winning.intersection(mine):\n",
    "            total += 2 ** (len(matches) - 1)\n",
    "            \n",
    "total"
   ]
  },
  {
   "cell_type": "markdown",
   "id": "a77a218c-10df-4018-9aa7-496550f19c38",
   "metadata": {},
   "source": [
    "# Part 2"
   ]
  },
  {
   "cell_type": "code",
   "execution_count": 28,
   "id": "26fb67f7-2011-42ae-b0b4-19c77ee8e955",
   "metadata": {},
   "outputs": [
    {
     "name": "stdout",
     "output_type": "stream",
     "text": [
      "5667240\n"
     ]
    }
   ],
   "source": [
    "import re\n",
    "\n",
    "with open('day4.txt') as f:\n",
    "    cards = []\n",
    "    \n",
    "    for line in f.readlines():\n",
    "        winning, mine = line.split(\"|\")\n",
    "        winning = set([int(x) for x in re.sub('\\s{2}', ' ', winning.split(\":\")[1].strip()).split(\" \")])\n",
    "        mine = set([int(x) for x in re.sub('\\s{2}', ' ', mine.strip()).split(\" \")])\n",
    "        \n",
    "        cards.append((winning, mine))\n",
    "        \n",
    "copies = [1] * len(cards)\n",
    "for i, card in enumerate(cards):\n",
    "    for j in range(len(card[0].intersection(card[1]))):\n",
    "        try:\n",
    "            copies[i + j + 1] += copies[i]\n",
    "        except IndexError:\n",
    "            pass\n",
    "        \n",
    "print(total := sum(copies))"
   ]
  },
  {
   "cell_type": "code",
   "execution_count": null,
   "id": "30912eb0-e77d-41ad-ad58-43a2ed3e2266",
   "metadata": {},
   "outputs": [],
   "source": []
  }
 ],
 "metadata": {
  "kernelspec": {
   "display_name": "Python 3 (ipykernel)",
   "language": "python",
   "name": "python3"
  },
  "language_info": {
   "codemirror_mode": {
    "name": "ipython",
    "version": 3
   },
   "file_extension": ".py",
   "mimetype": "text/x-python",
   "name": "python",
   "nbconvert_exporter": "python",
   "pygments_lexer": "ipython3",
   "version": "3.10.8"
  }
 },
 "nbformat": 4,
 "nbformat_minor": 5
}
