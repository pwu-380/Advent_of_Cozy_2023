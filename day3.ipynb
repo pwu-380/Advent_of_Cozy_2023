{
 "cells": [
  {
   "cell_type": "markdown",
   "id": "8cc3b754-d5b2-4ebd-b87e-beb81ef37f8b",
   "metadata": {},
   "source": [
    "# Part 1"
   ]
  },
  {
   "cell_type": "code",
   "execution_count": 17,
   "id": "dc7ce9ff-b76f-4191-b088-2c7340b89f5f",
   "metadata": {
    "tags": []
   },
   "outputs": [
    {
     "name": "stdout",
     "output_type": "stream",
     "text": [
      "559667\n"
     ]
    }
   ],
   "source": [
    "def is_symbol(c):\n",
    "    return not (c.isdigit() or c == \".\")\n",
    "        \n",
    "with open('day3_input.txt') as f:\n",
    "    rows = []\n",
    "    count = False\n",
    "    n = \"\"\n",
    "    total = 0\n",
    "    \n",
    "    for line in f.readlines():\n",
    "        rows.append(line.strip())\n",
    "        \n",
    "for i in range(len(rows)):\n",
    "    for j in range(len(rows[0])):\n",
    "        if rows[i][j].isdigit():\n",
    "            n += rows[i][j]\n",
    "\n",
    "            if len(n) == 1 and j > 0 and (\n",
    "                is_symbol(rows[max(0, i-1)][j-1]) or \n",
    "                is_symbol(rows[i][j-1]) or\n",
    "                is_symbol(rows[min(len(rows) - 1, i+1)][j-1])\n",
    "            ):\n",
    "                count = True\n",
    "\n",
    "            if not count and (is_symbol(rows[max(0, i-1)][j]) or \n",
    "                              is_symbol(rows[min(len(rows) - 1, i+1)][j])\n",
    "                             ):\n",
    "                count = True\n",
    "\n",
    "            if not count and j < len(rows[0])-1 and not rows[i][j+1].isdigit() and (\n",
    "                is_symbol(rows[max(0, i-1)][j+1]) or \n",
    "                is_symbol(rows[i][j+1]) or\n",
    "                is_symbol(rows[min(len(rows)-1, i+1)][j+1])\n",
    "            ):\n",
    "                count = True                \n",
    "\n",
    "            if j == len(rows[0])-1 or not rows[i][j+1].isdigit():\n",
    "                if count:\n",
    "                    total += int(n)\n",
    "                    count = False\n",
    "\n",
    "                n = \"\"        \n",
    "                \n",
    "print(total)"
   ]
  },
  {
   "cell_type": "markdown",
   "id": "12b75f62-a916-4cdb-85c9-731b64c37b35",
   "metadata": {},
   "source": [
    "# Part 2"
   ]
  },
  {
   "cell_type": "code",
   "execution_count": 16,
   "id": "ad67432e-895d-41dd-8b96-a6768dc0d906",
   "metadata": {},
   "outputs": [
    {
     "name": "stdout",
     "output_type": "stream",
     "text": [
      "86841457\n"
     ]
    }
   ],
   "source": [
    "def is_symbol(c):\n",
    "    return not (c.isdigit() or c == \".\")\n",
    "        \n",
    "with open('day3_input.txt') as f:\n",
    "    gears = {}\n",
    "    rows = []\n",
    "    n = \"\"\n",
    "    gear_loc = []\n",
    "    \n",
    "    for line in f.readlines():\n",
    "        rows.append(line.strip())\n",
    "        \n",
    "for i in range(len(rows)):\n",
    "    for j in range(len(rows[0])):\n",
    "        if rows[i][j].isdigit():\n",
    "            n += rows[i][j]\n",
    "\n",
    "            if j > 0 and not rows[i][j-1].isdigit():\n",
    "                for k, l in [(max(0, i-1), j-1), (i, j-1), (min(len(rows)-1, i+1), j-1)]:\n",
    "                    if rows[k][l] == \"*\":\n",
    "                        gear_loc.append((k, l))\n",
    "\n",
    "            for k, l in [(max(0, i-1), j), (min(len(rows)-1, i+1), j)]:\n",
    "                if rows[k][l] == \"*\":\n",
    "                    gear_loc.append((k, l))\n",
    "\n",
    "            if j < len(rows[0])-1 and not rows[i][j+1].isdigit():\n",
    "                for k, l in [(max(0, i-1), j+1), (i, j+1), (min(len(rows)-1, i+1), j+1)]:\n",
    "                    if rows[k][l] == \"*\":\n",
    "                        gear_loc.append((k, l))\n",
    "\n",
    "            if j == len(rows[0])-1 or not rows[i][j+1].isdigit():\n",
    "                for x in gear_loc:\n",
    "                    if x in gears:\n",
    "                        gears[x].append(int(n))\n",
    "                    else:\n",
    "                        gears[x] = [int(n)]\n",
    "                \n",
    "                n = \"\"\n",
    "                gear_loc = []\n",
    "                         \n",
    "total = 0\n",
    "for x in gears.values():\n",
    "    if len(x) == 2:\n",
    "        total += x[0] * x[1]\n",
    "                \n",
    "print(total)"
   ]
  },
  {
   "cell_type": "code",
   "execution_count": null,
   "id": "0ad62bce-9776-4003-81da-89294c6c84b8",
   "metadata": {},
   "outputs": [],
   "source": []
  }
 ],
 "metadata": {
  "kernelspec": {
   "display_name": "Python 3 (ipykernel)",
   "language": "python",
   "name": "python3"
  },
  "language_info": {
   "codemirror_mode": {
    "name": "ipython",
    "version": 3
   },
   "file_extension": ".py",
   "mimetype": "text/x-python",
   "name": "python",
   "nbconvert_exporter": "python",
   "pygments_lexer": "ipython3",
   "version": "3.10.8"
  }
 },
 "nbformat": 4,
 "nbformat_minor": 5
}
