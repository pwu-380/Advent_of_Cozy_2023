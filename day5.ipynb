{
 "cells": [
  {
   "cell_type": "markdown",
   "id": "f5961f68-d255-4eca-b8c9-fd0ea4f5aa80",
   "metadata": {},
   "source": [
    "# Part 1"
   ]
  },
  {
   "cell_type": "code",
   "execution_count": 1,
   "id": "f6c1c9f5-c6bd-449f-bca0-853daa5174eb",
   "metadata": {
    "tags": []
   },
   "outputs": [
    {
     "name": "stdout",
     "output_type": "stream",
     "text": [
      "218513636\n"
     ]
    }
   ],
   "source": [
    "import sys\n",
    "\n",
    "maps = [\n",
    "    [], # 0. seeds\n",
    "    [], # 1. seed-to-soil\n",
    "    [], # 2. soil-to-fertilizer\n",
    "    [], # 3. fertilizer-to-water\n",
    "    [], # 4. water-to-light\n",
    "    [], # 5. light-to-temperature\n",
    "    [], # 6. temperature-to-humidity\n",
    "    []  # 7. humidity-to-location\n",
    "]\n",
    "\n",
    "with open('day5.txt') as f:\n",
    "    current_map = -1\n",
    "    for line in f.readlines():\n",
    "        if line[0] != \"\\n\":\n",
    "            if not line[0].isdigit():\n",
    "                current_map += 1\n",
    "            if line[0].isdigit() or line[:5] == \"seeds\":\n",
    "                maps[current_map].append(\n",
    "                    [int(x) for x in line.split(\": \")[-1].split(\" \")]\n",
    "            )\n",
    "            \n",
    "low = sys.maxsize\n",
    "for to_map in maps[0][0]:\n",
    "    for i in range(1, 7, 1):\n",
    "        for interval in maps[i]:\n",
    "            if interval[1] <= to_map < interval[1] + interval[2]:\n",
    "                to_map = to_map - interval[1] + interval[0]\n",
    "                break\n",
    "    if to_map < low:\n",
    "        low = to_map\n",
    "\n",
    "print(low)"
   ]
  },
  {
   "cell_type": "markdown",
   "id": "329aa160-7292-46cb-8300-0e19944b0bce",
   "metadata": {},
   "source": [
    "# Part 2"
   ]
  },
  {
   "cell_type": "code",
   "execution_count": 76,
   "id": "9c8853bc-3150-4701-828b-b6490640a3ea",
   "metadata": {},
   "outputs": [
    {
     "name": "stdout",
     "output_type": "stream",
     "text": [
      "81956384\n"
     ]
    }
   ],
   "source": [
    "import sys\n",
    "\n",
    "maps = [\n",
    "    [], # 0. seeds\n",
    "    [], # 1. seed-to-soil\n",
    "    [], # 2. soil-to-fertilizer\n",
    "    [], # 3. fertilizer-to-water\n",
    "    [], # 4. water-to-light\n",
    "    [], # 5. light-to-temperature\n",
    "    [], # 6. temperature-to-humidity\n",
    "    []  # 7. humidity-to-location\n",
    "]\n",
    "\n",
    "with open('day5.txt') as f:\n",
    "    current_map = -1\n",
    "    for line in f.readlines():\n",
    "        if line[0] != \"\\n\":\n",
    "            if not line[0].isdigit():\n",
    "                current_map += 1\n",
    "            if line[0].isdigit() or line[:5] == \"seeds\":\n",
    "                maps[current_map].append(\n",
    "                    [int(x) for x in line.split(\": \")[-1].split(\" \")]\n",
    "            )\n",
    "            \n",
    "low = sys.maxsize\n",
    "q = [(maps[0][0][i * 2], maps[0][0][i * 2] + maps[0][0][i * 2 + 1] - 1) \n",
    "     for i in range(int(len(maps[0][0]) / 2))]\n",
    "\n",
    "for i in range(1, 7, 1):\n",
    "    new_q = []\n",
    "    \n",
    "    while q:\n",
    "        to_map = q.pop()\n",
    "        for interval in maps[i]:\n",
    "\n",
    "            def mapn(n):\n",
    "                return n - interval[1] + interval[0]\n",
    "\n",
    "            if interval[1] <= to_map[0] < (end := interval[1] + interval[2]):\n",
    "                if to_map[1] < end:\n",
    "                    new_q.append((mapn(to_map[0]), mapn(to_map[1])))\n",
    "                else:\n",
    "                    new_q.append((mapn(to_map[0]), mapn(end - 1)))\n",
    "                    q.append((end, to_map[1]))\n",
    "                break\n",
    "            elif interval[1] <= to_map[1] < (end := interval[1] + interval[2]):\n",
    "                new_q.append((mapn(interval[1]), mapn(to_map[1])))\n",
    "                q.append((to_map[0], interval[1] - 1))\n",
    "                break            \n",
    "        else:\n",
    "            new_q.append(to_map)\n",
    "\n",
    "    q = new_q\n",
    "    \n",
    "for interval in q:\n",
    "    if interval[0] < low:\n",
    "        low = interval[0]\n",
    "        \n",
    "print(low)"
   ]
  }
 ],
 "metadata": {
  "kernelspec": {
   "display_name": "Python 3 (ipykernel)",
   "language": "python",
   "name": "python3"
  },
  "language_info": {
   "codemirror_mode": {
    "name": "ipython",
    "version": 3
   },
   "file_extension": ".py",
   "mimetype": "text/x-python",
   "name": "python",
   "nbconvert_exporter": "python",
   "pygments_lexer": "ipython3",
   "version": "3.10.8"
  }
 },
 "nbformat": 4,
 "nbformat_minor": 5
}
