{
 "cells": [
  {
   "cell_type": "markdown",
   "id": "5018948b-d714-4e7a-b6f0-cc5fa8844473",
   "metadata": {},
   "source": [
    "# Part 1\n",
    "Distance the boat moves:  \n",
    "((Time allowed) - (Time holding button)) * (Time holding button)  \n",
    "D = (t - t0)(t0)  \n",
    "= t*t0 - t0^2\n",
    "\n",
    "Need to find zeros where  - t0 ^ 2 + t * t0 - D = 0"
   ]
  },
  {
   "cell_type": "code",
   "execution_count": 54,
   "id": "5c1b961f-5ec4-416d-9863-79c4a8a9b172",
   "metadata": {},
   "outputs": [
    {
     "name": "stdout",
     "output_type": "stream",
     "text": [
      "2756160\n"
     ]
    }
   ],
   "source": [
    "import math\n",
    "import re\n",
    "\n",
    "def quadratic(b, c, a=-1):\n",
    "    d = (b ** 2 - 4 * a * c) ** 0.5\n",
    "    return ((-b + d)/(2 * a), (-b - d)/(2 * a))\n",
    "\n",
    "with open('day6.txt') as f:   \n",
    "    inputs = []\n",
    "    for line in f.readlines():\n",
    "        inputs.append([int(x) for x in re.sub('\\s+', ' ', line.split(\":\")[1]).strip().split(\" \")])\n",
    "                      \n",
    "ways = 1\n",
    "            \n",
    "for time, distance in zip(*inputs):\n",
    "    min_hold, max_hold = quadratic(time, -distance)\n",
    "    ways = ways * ((max_hold - 1 if max_hold.is_integer() else math.floor(max_hold)) - (min_hold + 1 if min_hold.is_integer() else math.ceil(min_hold)) + 1)\n",
    "\n",
    "print(ways)"
   ]
  },
  {
   "cell_type": "markdown",
   "id": "8daa24f2-9c25-44b2-bd26-572e4b1a5772",
   "metadata": {},
   "source": [
    "# Part 2"
   ]
  },
  {
   "cell_type": "code",
   "execution_count": 55,
   "id": "50f22564-850d-415d-a22b-7f9a2b4c2052",
   "metadata": {},
   "outputs": [
    {
     "name": "stdout",
     "output_type": "stream",
     "text": [
      "34788142\n"
     ]
    }
   ],
   "source": [
    "import math\n",
    "import re\n",
    "\n",
    "def quadratic(b, c, a=-1):\n",
    "    d = (b ** 2 - 4 * a * c) ** 0.5\n",
    "    return ((-b + d)/(2 * a), (-b - d)/(2 * a))\n",
    "\n",
    "with open('day6.txt') as f:   \n",
    "    inputs = []\n",
    "    for line in f.readlines():\n",
    "        inputs.append(int(re.sub('\\s+', '', line.split(\":\")[1])))\n",
    "\n",
    "min_hold, max_hold = quadratic(inputs[0], -inputs[1])\n",
    "ways = (max_hold - 1 if max_hold.is_integer() else math.floor(max_hold)) - (min_hold + 1 if min_hold.is_integer() else math.ceil(min_hold)) + 1\n",
    "\n",
    "print(ways)"
   ]
  },
  {
   "cell_type": "code",
   "execution_count": null,
   "id": "71c38b49-f943-40c3-82af-8224688ab6f6",
   "metadata": {},
   "outputs": [],
   "source": []
  }
 ],
 "metadata": {
  "kernelspec": {
   "display_name": "Python 3 (ipykernel)",
   "language": "python",
   "name": "python3"
  },
  "language_info": {
   "codemirror_mode": {
    "name": "ipython",
    "version": 3
   },
   "file_extension": ".py",
   "mimetype": "text/x-python",
   "name": "python",
   "nbconvert_exporter": "python",
   "pygments_lexer": "ipython3",
   "version": "3.10.8"
  }
 },
 "nbformat": 4,
 "nbformat_minor": 5
}
