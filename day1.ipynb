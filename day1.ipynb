{
 "cells": [
  {
   "cell_type": "markdown",
   "id": "4f082909-053d-4b1e-8a6e-969f5492dd1b",
   "metadata": {},
   "source": [
    "# Part 1"
   ]
  },
  {
   "cell_type": "code",
   "execution_count": 42,
   "id": "2667490d-3e17-49c9-b592-d063f9bf08f4",
   "metadata": {
    "tags": []
   },
   "outputs": [
    {
     "name": "stdout",
     "output_type": "stream",
     "text": [
      "55002\n"
     ]
    }
   ],
   "source": [
    "def first_num(line):\n",
    "    for ch in line:\n",
    "        if ch.isdigit():\n",
    "            return ch\n",
    "    \n",
    "with open('day1_input.txt') as f:\n",
    "    total = 0\n",
    "    \n",
    "    for line in f.readlines():\n",
    "        n = first_num(line) + first_num(reversed(line))\n",
    "        total += int(n)\n",
    "    \n",
    "print(total)"
   ]
  },
  {
   "cell_type": "markdown",
   "id": "108294c5-676c-4560-8d95-0d2c00f4142a",
   "metadata": {},
   "source": [
    "# Part 2"
   ]
  },
  {
   "cell_type": "code",
   "execution_count": 51,
   "id": "9fdf49b9-b7ac-48a6-91e6-ed9f002e26a7",
   "metadata": {},
   "outputs": [
    {
     "name": "stdout",
     "output_type": "stream",
     "text": [
      "55093\n"
     ]
    }
   ],
   "source": [
    "def first_num(line):\n",
    "    for ch in line:\n",
    "        if ch.isdigit():\n",
    "            return ch\n",
    "    \n",
    "with open('day1_input.txt') as f:\n",
    "    total = 0\n",
    "    \n",
    "    for line in f.readlines():\n",
    "        for x, y in {\n",
    "            \"one\": \"o1e\",\n",
    "            \"two\": \"t2o\",\n",
    "            \"three\": \"t3e\",\n",
    "            \"four\": \"4\",\n",
    "            \"five\": \"5e\",\n",
    "            \"six\": \"6\",\n",
    "            \"seven\": \"7n\",\n",
    "            \"eight\": \"e8t\",\n",
    "            \"nine\": \"n9e\"\n",
    "        }.items():\n",
    "            line = line.replace(x, y)\n",
    "        \n",
    "        n = first_num(line) + first_num(reversed(line))\n",
    "        total += int(n)\n",
    "    \n",
    "print(total)"
   ]
  },
  {
   "cell_type": "code",
   "execution_count": null,
   "id": "26525225-98c4-4bed-acf9-15d9e10c94d8",
   "metadata": {},
   "outputs": [],
   "source": []
  }
 ],
 "metadata": {
  "kernelspec": {
   "display_name": "Python 3 (ipykernel)",
   "language": "python",
   "name": "python3"
  },
  "language_info": {
   "codemirror_mode": {
    "name": "ipython",
    "version": 3
   },
   "file_extension": ".py",
   "mimetype": "text/x-python",
   "name": "python",
   "nbconvert_exporter": "python",
   "pygments_lexer": "ipython3",
   "version": "3.10.8"
  }
 },
 "nbformat": 4,
 "nbformat_minor": 5
}
